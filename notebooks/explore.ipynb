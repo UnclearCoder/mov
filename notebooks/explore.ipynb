{
 "cells": [
  {
   "cell_type": "code",
   "execution_count": 1,
   "metadata": {
    "metadata": {}
   },
   "outputs": [],
   "source": [
    "import polars as pl\n",
    "import pandas as pd\n",
    "import numpy as np\n",
    "import os \n",
    "import json\n",
    "os.chdir(\"..\")"
   ]
  },
  {
   "cell_type": "code",
   "execution_count": 26,
   "metadata": {
    "metadata": {}
   },
   "outputs": [
    {
     "data": {
      "text/plain": [
       "['nebraska',\n",
       " 'delaware',\n",
       " 'idaho',\n",
       " 'south_carolina',\n",
       " 'indiana',\n",
       " 'alabama',\n",
       " 'nevada',\n",
       " 'texas',\n",
       " 'montana',\n",
       " 'georgia',\n",
       " 'new_jersey',\n",
       " 'florida',\n",
       " 'arkansas',\n",
       " 'oregon',\n",
       " 'arizona',\n",
       " 'illinois',\n",
       " 'vermont',\n",
       " 'wisconsin',\n",
       " 'new_mexico',\n",
       " 'alaska',\n",
       " 'hawaii',\n",
       " 'district_of_colombia',\n",
       " 'california',\n",
       " 'michigan',\n",
       " 'minnesota',\n",
       " 'colorado',\n",
       " 'north_carolina',\n",
       " 'oklahoma',\n",
       " 'connecticut',\n",
       " 'new_hampshire',\n",
       " 'new_york',\n",
       " 'kentucky',\n",
       " 'tennessee',\n",
       " 'iowa',\n",
       " 'mississippi',\n",
       " 'missouri',\n",
       " 'north_dakota',\n",
       " 'maryland',\n",
       " 'rhode_island',\n",
       " 'virgina',\n",
       " 'wyoming',\n",
       " 'washington',\n",
       " 'pennsylvania',\n",
       " 'ohio',\n",
       " 'massachusetts',\n",
       " 'south_dekota',\n",
       " 'utah',\n",
       " 'luisiana',\n",
       " 'kansas',\n",
       " 'maine']"
      ]
     },
     "execution_count": 26,
     "metadata": {},
     "output_type": "execute_result"
    }
   ],
   "source": [
    "sex = pl.read_json(f\"{os.getcwd()}/data/external/sex.json\").transpose(include_header=True).select(pl.col(\"column\")).to_series().to_list()\n",
    "race = pl.read_json(f\"{os.getcwd()}/data/external/race.json\").transpose(include_header=True).select(pl.col(\"column\")).to_series().to_list()\n",
    "states = pl.read_json(f\"{os.getcwd()}/data/external/states.json\").transpose(include_header=True).select(pl.col(\"column\")).to_series().to_list()\n",
    "states"
   ]
  },
  {
   "cell_type": "code",
   "execution_count": 22,
   "metadata": {
    "metadata": {}
   },
   "outputs": [
    {
     "data": {
      "text/html": [
       "<div><style>\n",
       ".dataframe > thead > tr,\n",
       ".dataframe > tbody > tr {\n",
       "  text-align: right;\n",
       "  white-space: pre-wrap;\n",
       "}\n",
       "</style>\n",
       "<small>shape: (180_180, 44)</small><table border=\"1\" class=\"dataframe\"><thead><tr><th>baseyear</th><th>decile</th><th>sex</th><th>raceeth</th><th>state</th><th>agglevel</th><th>year</th><th>fips</th><th>state_name</th><th>state_abbr</th><th>mageb</th><th>meqinc</th><th>mleqinc</th><th>muneqinc</th><th>pqn1</th><th>pqn2</th><th>pqn3</th><th>pqn4</th><th>pqn5</th><th>mdiffleqinc</th><th>mdiffleqincb</th><th>mdiffluneqinc</th><th>mdiffleqscale</th><th>pdiffinc_gt25</th><th>pdiffinc_lt25</th><th>marcpdiffeqinc</th><th>varcpdiffeqinc</th><th>marcpdiffeqincb</th><th>mdiffeqinc</th><th>mdiffuneqinc</th><th>mdiffeqincb</th><th>mdiffuneqincb</th><th>count</th><th>mfn</th><th>mad</th><th>mkids</th><th>pmar</th><th>mdiffkids</th><th>mdiffad</th><th>mdifffn</th><th>pdiffstate</th><th>pdiffstateb</th><th>pdiffdiv</th><th>pdiffmar</th></tr><tr><td>i64</td><td>i64</td><td>i64</td><td>i64</td><td>i64</td><td>i64</td><td>i64</td><td>i64</td><td>str</td><td>str</td><td>f64</td><td>i64</td><td>f64</td><td>i64</td><td>f64</td><td>f64</td><td>f64</td><td>f64</td><td>f64</td><td>f64</td><td>f64</td><td>f64</td><td>f64</td><td>f64</td><td>f64</td><td>f64</td><td>f64</td><td>f64</td><td>f64</td><td>f64</td><td>f64</td><td>f64</td><td>i64</td><td>f64</td><td>f64</td><td>f64</td><td>f64</td><td>f64</td><td>f64</td><td>f64</td><td>f64</td><td>f64</td><td>f64</td><td>f64</td></tr></thead><tbody><tr><td>2005</td><td>-1</td><td>-1</td><td>-1</td><td>-1</td><td>1</td><td>2005</td><td>-1</td><td>&quot;United States&quot;</td><td>&quot;US&quot;</td><td>38.03</td><td>42120</td><td>10.26</td><td>77460</td><td>null</td><td>null</td><td>null</td><td>null</td><td>null</td><td>null</td><td>null</td><td>null</td><td>null</td><td>null</td><td>null</td><td>null</td><td>null</td><td>null</td><td>null</td><td>null</td><td>null</td><td>null</td><td>98460000</td><td>3.659</td><td>2.254</td><td>1.406</td><td>0.5716</td><td>null</td><td>null</td><td>null</td><td>null</td><td>null</td><td>null</td><td>null</td></tr><tr><td>2005</td><td>-1</td><td>-1</td><td>-1</td><td>-1</td><td>1</td><td>2006</td><td>-1</td><td>&quot;United States&quot;</td><td>&quot;US&quot;</td><td>38.03</td><td>43150</td><td>10.14</td><td>79150</td><td>0.2</td><td>0.2</td><td>0.2</td><td>0.2</td><td>0.2</td><td>-0.1198</td><td>-0.1198</td><td>-0.1297</td><td>0.007705</td><td>0.2252</td><td>0.1714</td><td>-0.007561</td><td>0.359</td><td>-0.007561</td><td>1037.0</td><td>1690.0</td><td>1037.0</td><td>1690.0</td><td>99580000</td><td>3.617</td><td>2.234</td><td>1.383</td><td>0.5698</td><td>-0.02202</td><td>-0.02409</td><td>-0.04611</td><td>0.04058</td><td>0.04058</td><td>0.03008</td><td>0.03309</td></tr><tr><td>2005</td><td>-1</td><td>-1</td><td>-1</td><td>-1</td><td>1</td><td>2007</td><td>-1</td><td>&quot;United States&quot;</td><td>&quot;US&quot;</td><td>38.03</td><td>44920</td><td>10.16</td><td>82450</td><td>0.2</td><td>0.2</td><td>0.2</td><td>0.2</td><td>0.2</td><td>0.0102</td><td>-0.1076</td><td>0.009011</td><td>0.001795</td><td>0.239</td><td>0.1603</td><td>0.02723</td><td>0.3638</td><td>0.02263</td><td>1745.0</td><td>3188.0</td><td>2794.0</td><td>4955.0</td><td>99600000</td><td>3.611</td><td>2.229</td><td>1.382</td><td>0.581</td><td>-0.005</td><td>-0.006964</td><td>-0.01196</td><td>0.04064</td><td>0.06926</td><td>0.02448</td><td>0.03618</td></tr><tr><td>2005</td><td>-1</td><td>-1</td><td>-1</td><td>-1</td><td>1</td><td>2008</td><td>-1</td><td>&quot;United States&quot;</td><td>&quot;US&quot;</td><td>38.03</td><td>43640</td><td>10.04</td><td>79960</td><td>0.2</td><td>0.2</td><td>0.2</td><td>0.2</td><td>0.2</td><td>-0.1211</td><td>-0.2237</td><td>-0.1277</td><td>0.005339</td><td>0.183</td><td>0.1927</td><td>-0.04614</td><td>0.3635</td><td>-0.02041</td><td>-1342.0</td><td>-2739.0</td><td>1488.0</td><td>2382.0</td><td>99260000</td><td>3.593</td><td>2.231</td><td>1.362</td><td>0.578</td><td>-0.02735</td><td>-0.004451</td><td>-0.0318</td><td>0.0378</td><td>0.08833</td><td>0.03081</td><td>0.02763</td></tr><tr><td>2005</td><td>-1</td><td>-1</td><td>-1</td><td>-1</td><td>1</td><td>2009</td><td>-1</td><td>&quot;United States&quot;</td><td>&quot;US&quot;</td><td>38.03</td><td>42460</td><td>9.943</td><td>77810</td><td>0.2</td><td>0.2</td><td>0.2</td><td>0.2</td><td>0.2</td><td>-0.1052</td><td>-0.3225</td><td>-0.1102</td><td>0.004277</td><td>0.1759</td><td>0.1903</td><td>-0.04334</td><td>0.3662</td><td>-0.05754</td><td>-1229.0</td><td>-2368.0</td><td>296.7</td><td>187.1</td><td>99280000</td><td>3.585</td><td>2.23</td><td>1.355</td><td>0.5766</td><td>-0.01599</td><td>-0.008972</td><td>-0.02497</td><td>0.03604</td><td>0.1026</td><td>0.02897</td><td>0.02739</td></tr><tr><td>&hellip;</td><td>&hellip;</td><td>&hellip;</td><td>&hellip;</td><td>&hellip;</td><td>&hellip;</td><td>&hellip;</td><td>&hellip;</td><td>&hellip;</td><td>&hellip;</td><td>&hellip;</td><td>&hellip;</td><td>&hellip;</td><td>&hellip;</td><td>&hellip;</td><td>&hellip;</td><td>&hellip;</td><td>&hellip;</td><td>&hellip;</td><td>&hellip;</td><td>&hellip;</td><td>&hellip;</td><td>&hellip;</td><td>&hellip;</td><td>&hellip;</td><td>&hellip;</td><td>&hellip;</td><td>&hellip;</td><td>&hellip;</td><td>&hellip;</td><td>&hellip;</td><td>&hellip;</td><td>&hellip;</td><td>&hellip;</td><td>&hellip;</td><td>&hellip;</td><td>&hellip;</td><td>&hellip;</td><td>&hellip;</td><td>&hellip;</td><td>&hellip;</td><td>&hellip;</td><td>&hellip;</td><td>&hellip;</td></tr><tr><td>2005</td><td>10</td><td>2</td><td>5</td><td>56</td><td>16</td><td>2015</td><td>56</td><td>&quot;Wyoming&quot;</td><td>&quot;WY&quot;</td><td>37.72</td><td>109300</td><td>10.33</td><td>198100</td><td>0.1527</td><td>0.05472</td><td>0.03615</td><td>0.1363</td><td>0.6201</td><td>-0.1986</td><td>-1.362</td><td>-0.1898</td><td>-0.008806</td><td>0.279</td><td>0.1498</td><td>0.04903</td><td>0.5124</td><td>-0.3791</td><td>4696.0</td><td>15670.0</td><td>-15450.0</td><td>-50600.0</td><td>null</td><td>3.096</td><td>2.336</td><td>0.7607</td><td>0.6601</td><td>-0.1093</td><td>0.2329</td><td>0.1236</td><td>0.03785</td><td>0.3153</td><td>0.07332</td><td>0.01922</td></tr><tr><td>2005</td><td>10</td><td>2</td><td>5</td><td>56</td><td>16</td><td>2016</td><td>56</td><td>&quot;Wyoming&quot;</td><td>&quot;WY&quot;</td><td>37.72</td><td>91540</td><td>10.21</td><td>152900</td><td>0.1691</td><td>0.05584</td><td>0.05786</td><td>0.1706</td><td>0.5466</td><td>-0.1153</td><td>-1.477</td><td>-0.1468</td><td>0.03149</td><td>0.1508</td><td>0.263</td><td>-0.1089</td><td>0.4542</td><td>-0.5153</td><td>-17720.0</td><td>-45180.0</td><td>-33310.0</td><td>-96370.0</td><td>null</td><td>2.964</td><td>2.299</td><td>0.665</td><td>0.6759</td><td>-0.1</td><td>-0.04198</td><td>-0.142</td><td>0.03876</td><td>0.3561</td><td>0.01872</td><td>0.03611</td></tr><tr><td>2005</td><td>10</td><td>2</td><td>5</td><td>56</td><td>16</td><td>2017</td><td>56</td><td>&quot;Wyoming&quot;</td><td>&quot;WY&quot;</td><td>37.72</td><td>91790</td><td>10.56</td><td>157300</td><td>0.1882</td><td>0.07496</td><td>0.05671</td><td>0.1719</td><td>0.5082</td><td>0.3487</td><td>-1.129</td><td>0.3806</td><td>-0.03197</td><td>0.2456</td><td>0.2636</td><td>0.01705</td><td>0.6236</td><td>-0.5616</td><td>492.3</td><td>4585.0</td><td>-33280.0</td><td>-92370.0</td><td>null</td><td>2.983</td><td>2.309</td><td>0.6745</td><td>0.6568</td><td>-0.00106</td><td>-0.002752</td><td>-0.003813</td><td>0.05654</td><td>0.3603</td><td>0.05584</td><td>0.03757</td></tr><tr><td>2005</td><td>10</td><td>2</td><td>5</td><td>56</td><td>16</td><td>2018</td><td>56</td><td>&quot;Wyoming&quot;</td><td>&quot;WY&quot;</td><td>37.72</td><td>93080</td><td>10.1</td><td>168600</td><td>0.1686</td><td>0.09329</td><td>0.05706</td><td>0.1713</td><td>0.5098</td><td>-0.4649</td><td>-1.59</td><td>-0.4572</td><td>-0.007748</td><td>0.2644</td><td>0.2244</td><td>-0.08957</td><td>0.7631</td><td>-0.5601</td><td>1354.0</td><td>11050.0</td><td>-31920.0</td><td>-80900.0</td><td>null</td><td>3.081</td><td>2.292</td><td>0.7886</td><td>0.6411</td><td>0.1076</td><td>-0.02193</td><td>0.08572</td><td>0.03752</td><td>0.344</td><td>0.03723</td><td>0.01917</td></tr><tr><td>2005</td><td>10</td><td>2</td><td>5</td><td>56</td><td>16</td><td>2019</td><td>56</td><td>&quot;Wyoming&quot;</td><td>&quot;WY&quot;</td><td>37.72</td><td>94440</td><td>10.4</td><td>164900</td><td>0.158</td><td>0.1172</td><td>0.07825</td><td>0.2365</td><td>0.41</td><td>-0.09288</td><td>-1.298</td><td>-0.1838</td><td>0.09093</td><td>0.2721</td><td>0.237</td><td>0.02348</td><td>0.6894</td><td>-0.5859</td><td>-2073.0</td><td>-10040.0</td><td>-31700.0</td><td>-87660.0</td><td>null</td><td>2.826</td><td>2.142</td><td>0.684</td><td>0.6434</td><td>-0.1393</td><td>-0.2013</td><td>-0.3406</td><td>0.07878</td><td>0.341</td><td>0.03892</td><td>0.01919</td></tr></tbody></table></div>"
      ],
      "text/plain": [
       "shape: (180_180, 44)\n",
       "┌──────────┬────────┬─────┬─────────┬───┬────────────┬─────────────┬──────────┬──────────┐\n",
       "│ baseyear ┆ decile ┆ sex ┆ raceeth ┆ … ┆ pdiffstate ┆ pdiffstateb ┆ pdiffdiv ┆ pdiffmar │\n",
       "│ ---      ┆ ---    ┆ --- ┆ ---     ┆   ┆ ---        ┆ ---         ┆ ---      ┆ ---      │\n",
       "│ i64      ┆ i64    ┆ i64 ┆ i64     ┆   ┆ f64        ┆ f64         ┆ f64      ┆ f64      │\n",
       "╞══════════╪════════╪═════╪═════════╪═══╪════════════╪═════════════╪══════════╪══════════╡\n",
       "│ 2005     ┆ -1     ┆ -1  ┆ -1      ┆ … ┆ null       ┆ null        ┆ null     ┆ null     │\n",
       "│ 2005     ┆ -1     ┆ -1  ┆ -1      ┆ … ┆ 0.04058    ┆ 0.04058     ┆ 0.03008  ┆ 0.03309  │\n",
       "│ 2005     ┆ -1     ┆ -1  ┆ -1      ┆ … ┆ 0.04064    ┆ 0.06926     ┆ 0.02448  ┆ 0.03618  │\n",
       "│ 2005     ┆ -1     ┆ -1  ┆ -1      ┆ … ┆ 0.0378     ┆ 0.08833     ┆ 0.03081  ┆ 0.02763  │\n",
       "│ 2005     ┆ -1     ┆ -1  ┆ -1      ┆ … ┆ 0.03604    ┆ 0.1026      ┆ 0.02897  ┆ 0.02739  │\n",
       "│ …        ┆ …      ┆ …   ┆ …       ┆ … ┆ …          ┆ …           ┆ …        ┆ …        │\n",
       "│ 2005     ┆ 10     ┆ 2   ┆ 5       ┆ … ┆ 0.03785    ┆ 0.3153      ┆ 0.07332  ┆ 0.01922  │\n",
       "│ 2005     ┆ 10     ┆ 2   ┆ 5       ┆ … ┆ 0.03876    ┆ 0.3561      ┆ 0.01872  ┆ 0.03611  │\n",
       "│ 2005     ┆ 10     ┆ 2   ┆ 5       ┆ … ┆ 0.05654    ┆ 0.3603      ┆ 0.05584  ┆ 0.03757  │\n",
       "│ 2005     ┆ 10     ┆ 2   ┆ 5       ┆ … ┆ 0.03752    ┆ 0.344       ┆ 0.03723  ┆ 0.01917  │\n",
       "│ 2005     ┆ 10     ┆ 2   ┆ 5       ┆ … ┆ 0.07878    ┆ 0.341       ┆ 0.03892  ┆ 0.01919  │\n",
       "└──────────┴────────┴─────┴─────────┴───┴────────────┴─────────────┴──────────┴──────────┘"
      ]
     },
     "execution_count": 22,
     "metadata": {},
     "output_type": "execute_result"
    }
   ],
   "source": [
    "df = pl.read_csv(\"data/raw/movs_st_main2005.csv\", ignore_errors=True)\n",
    "df "
   ]
  },
  {
   "cell_type": "code",
   "execution_count": 28,
   "metadata": {},
   "outputs": [
    {
     "data": {
      "text/html": [
       "<div><style>\n",
       ".dataframe > thead > tr,\n",
       ".dataframe > tbody > tr {\n",
       "  text-align: right;\n",
       "  white-space: pre-wrap;\n",
       "}\n",
       "</style>\n",
       "<small>shape: (100_980, 44)</small><table border=\"1\" class=\"dataframe\"><thead><tr><th>baseyear</th><th>decile</th><th>sex</th><th>raceeth</th><th>state</th><th>agglevel</th><th>year</th><th>fips</th><th>state_name</th><th>state_abbr</th><th>mageb</th><th>meqinc</th><th>mleqinc</th><th>muneqinc</th><th>pqn1</th><th>pqn2</th><th>pqn3</th><th>pqn4</th><th>pqn5</th><th>mdiffleqinc</th><th>mdiffleqincb</th><th>mdiffluneqinc</th><th>mdiffleqscale</th><th>pdiffinc_gt25</th><th>pdiffinc_lt25</th><th>marcpdiffeqinc</th><th>varcpdiffeqinc</th><th>marcpdiffeqincb</th><th>mdiffeqinc</th><th>mdiffuneqinc</th><th>mdiffeqincb</th><th>mdiffuneqincb</th><th>count</th><th>mfn</th><th>mad</th><th>mkids</th><th>pmar</th><th>mdiffkids</th><th>mdiffad</th><th>mdifffn</th><th>pdiffstate</th><th>pdiffstateb</th><th>pdiffdiv</th><th>pdiffmar</th></tr><tr><td>i64</td><td>i64</td><td>i64</td><td>i64</td><td>i64</td><td>i64</td><td>i64</td><td>i64</td><td>str</td><td>str</td><td>f64</td><td>i64</td><td>f64</td><td>i64</td><td>f64</td><td>f64</td><td>f64</td><td>f64</td><td>f64</td><td>f64</td><td>f64</td><td>f64</td><td>f64</td><td>f64</td><td>f64</td><td>f64</td><td>f64</td><td>f64</td><td>f64</td><td>f64</td><td>f64</td><td>f64</td><td>i64</td><td>f64</td><td>f64</td><td>f64</td><td>f64</td><td>f64</td><td>f64</td><td>f64</td><td>f64</td><td>f64</td><td>f64</td><td>f64</td></tr></thead><tbody><tr><td>2005</td><td>-1</td><td>1</td><td>0</td><td>1</td><td>15</td><td>2005</td><td>1</td><td>&quot;Alabama&quot;</td><td>&quot;AL&quot;</td><td>35.88</td><td>30290</td><td>9.91</td><td>55840</td><td>null</td><td>null</td><td>null</td><td>null</td><td>null</td><td>null</td><td>null</td><td>null</td><td>null</td><td>null</td><td>null</td><td>null</td><td>null</td><td>null</td><td>null</td><td>null</td><td>null</td><td>null</td><td>17650</td><td>3.763</td><td>2.19</td><td>1.573</td><td>0.4896</td><td>null</td><td>null</td><td>null</td><td>null</td><td>null</td><td>null</td><td>null</td></tr><tr><td>2005</td><td>-1</td><td>1</td><td>0</td><td>1</td><td>15</td><td>2006</td><td>1</td><td>&quot;Alabama&quot;</td><td>&quot;AL&quot;</td><td>35.88</td><td>30500</td><td>9.597</td><td>56160</td><td>0.3409</td><td>0.2586</td><td>0.1669</td><td>0.1271</td><td>0.1066</td><td>-0.3161</td><td>-0.3161</td><td>-0.3321</td><td>0.01268</td><td>0.2626</td><td>0.2362</td><td>-0.05755</td><td>0.769</td><td>-0.05755</td><td>150.9</td><td>162.0</td><td>150.9</td><td>162.0</td><td>17760</td><td>3.716</td><td>2.142</td><td>1.574</td><td>0.4867</td><td>0.002491</td><td>-0.05637</td><td>-0.05388</td><td>0.1205</td><td>0.1205</td><td>0.03722</td><td>0.04853</td></tr><tr><td>2005</td><td>-1</td><td>1</td><td>0</td><td>1</td><td>15</td><td>2007</td><td>1</td><td>&quot;Alabama&quot;</td><td>&quot;AL&quot;</td><td>35.88</td><td>30780</td><td>9.505</td><td>56880</td><td>0.3521</td><td>0.2562</td><td>0.1621</td><td>0.1274</td><td>0.1021</td><td>-0.09488</td><td>-0.4075</td><td>-0.09844</td><td>0.004594</td><td>0.2614</td><td>0.2128</td><td>-0.01297</td><td>0.7228</td><td>-0.0616</td><td>296.2</td><td>482.3</td><td>453.7</td><td>832.5</td><td>17550</td><td>3.737</td><td>2.125</td><td>1.612</td><td>0.4953</td><td>0.01808</td><td>-0.02466</td><td>-0.006578</td><td>0.1193</td><td>0.1907</td><td>0.03216</td><td>0.04561</td></tr><tr><td>2005</td><td>-1</td><td>1</td><td>0</td><td>1</td><td>15</td><td>2008</td><td>1</td><td>&quot;Alabama&quot;</td><td>&quot;AL&quot;</td><td>35.88</td><td>29570</td><td>9.297</td><td>54700</td><td>0.3531</td><td>0.2536</td><td>0.1669</td><td>0.1259</td><td>0.1005</td><td>-0.2124</td><td>-0.6132</td><td>-0.221</td><td>0.007629</td><td>0.2182</td><td>0.2433</td><td>-0.07545</td><td>0.7183</td><td>-0.123</td><td>-1186.0</td><td>-2529.0</td><td>-685.4</td><td>-1308.0</td><td>17140</td><td>3.737</td><td>2.116</td><td>1.621</td><td>0.4876</td><td>-0.01879</td><td>-0.03121</td><td>-0.05</td><td>0.1064</td><td>0.2275</td><td>0.03961</td><td>0.03818</td></tr><tr><td>2005</td><td>-1</td><td>1</td><td>0</td><td>1</td><td>15</td><td>2009</td><td>1</td><td>&quot;Alabama&quot;</td><td>&quot;AL&quot;</td><td>35.88</td><td>28490</td><td>9.111</td><td>52940</td><td>0.3646</td><td>0.2456</td><td>0.1638</td><td>0.1252</td><td>0.1008</td><td>-0.2009</td><td>-0.7988</td><td>-0.2091</td><td>0.006468</td><td>0.2034</td><td>0.246</td><td>-0.07782</td><td>0.7132</td><td>-0.1857</td><td>-1076.0</td><td>-2085.0</td><td>-1705.0</td><td>-3021.0</td><td>16780</td><td>3.759</td><td>2.118</td><td>1.641</td><td>0.4851</td><td>-0.01229</td><td>-0.01918</td><td>-0.03148</td><td>0.1063</td><td>0.2548</td><td>0.0361</td><td>0.03862</td></tr><tr><td>&hellip;</td><td>&hellip;</td><td>&hellip;</td><td>&hellip;</td><td>&hellip;</td><td>&hellip;</td><td>&hellip;</td><td>&hellip;</td><td>&hellip;</td><td>&hellip;</td><td>&hellip;</td><td>&hellip;</td><td>&hellip;</td><td>&hellip;</td><td>&hellip;</td><td>&hellip;</td><td>&hellip;</td><td>&hellip;</td><td>&hellip;</td><td>&hellip;</td><td>&hellip;</td><td>&hellip;</td><td>&hellip;</td><td>&hellip;</td><td>&hellip;</td><td>&hellip;</td><td>&hellip;</td><td>&hellip;</td><td>&hellip;</td><td>&hellip;</td><td>&hellip;</td><td>&hellip;</td><td>&hellip;</td><td>&hellip;</td><td>&hellip;</td><td>&hellip;</td><td>&hellip;</td><td>&hellip;</td><td>&hellip;</td><td>&hellip;</td><td>&hellip;</td><td>&hellip;</td><td>&hellip;</td><td>&hellip;</td></tr><tr><td>2005</td><td>10</td><td>2</td><td>5</td><td>56</td><td>16</td><td>2015</td><td>56</td><td>&quot;Wyoming&quot;</td><td>&quot;WY&quot;</td><td>37.72</td><td>109300</td><td>10.33</td><td>198100</td><td>0.1527</td><td>0.05472</td><td>0.03615</td><td>0.1363</td><td>0.6201</td><td>-0.1986</td><td>-1.362</td><td>-0.1898</td><td>-0.008806</td><td>0.279</td><td>0.1498</td><td>0.04903</td><td>0.5124</td><td>-0.3791</td><td>4696.0</td><td>15670.0</td><td>-15450.0</td><td>-50600.0</td><td>null</td><td>3.096</td><td>2.336</td><td>0.7607</td><td>0.6601</td><td>-0.1093</td><td>0.2329</td><td>0.1236</td><td>0.03785</td><td>0.3153</td><td>0.07332</td><td>0.01922</td></tr><tr><td>2005</td><td>10</td><td>2</td><td>5</td><td>56</td><td>16</td><td>2016</td><td>56</td><td>&quot;Wyoming&quot;</td><td>&quot;WY&quot;</td><td>37.72</td><td>91540</td><td>10.21</td><td>152900</td><td>0.1691</td><td>0.05584</td><td>0.05786</td><td>0.1706</td><td>0.5466</td><td>-0.1153</td><td>-1.477</td><td>-0.1468</td><td>0.03149</td><td>0.1508</td><td>0.263</td><td>-0.1089</td><td>0.4542</td><td>-0.5153</td><td>-17720.0</td><td>-45180.0</td><td>-33310.0</td><td>-96370.0</td><td>null</td><td>2.964</td><td>2.299</td><td>0.665</td><td>0.6759</td><td>-0.1</td><td>-0.04198</td><td>-0.142</td><td>0.03876</td><td>0.3561</td><td>0.01872</td><td>0.03611</td></tr><tr><td>2005</td><td>10</td><td>2</td><td>5</td><td>56</td><td>16</td><td>2017</td><td>56</td><td>&quot;Wyoming&quot;</td><td>&quot;WY&quot;</td><td>37.72</td><td>91790</td><td>10.56</td><td>157300</td><td>0.1882</td><td>0.07496</td><td>0.05671</td><td>0.1719</td><td>0.5082</td><td>0.3487</td><td>-1.129</td><td>0.3806</td><td>-0.03197</td><td>0.2456</td><td>0.2636</td><td>0.01705</td><td>0.6236</td><td>-0.5616</td><td>492.3</td><td>4585.0</td><td>-33280.0</td><td>-92370.0</td><td>null</td><td>2.983</td><td>2.309</td><td>0.6745</td><td>0.6568</td><td>-0.00106</td><td>-0.002752</td><td>-0.003813</td><td>0.05654</td><td>0.3603</td><td>0.05584</td><td>0.03757</td></tr><tr><td>2005</td><td>10</td><td>2</td><td>5</td><td>56</td><td>16</td><td>2018</td><td>56</td><td>&quot;Wyoming&quot;</td><td>&quot;WY&quot;</td><td>37.72</td><td>93080</td><td>10.1</td><td>168600</td><td>0.1686</td><td>0.09329</td><td>0.05706</td><td>0.1713</td><td>0.5098</td><td>-0.4649</td><td>-1.59</td><td>-0.4572</td><td>-0.007748</td><td>0.2644</td><td>0.2244</td><td>-0.08957</td><td>0.7631</td><td>-0.5601</td><td>1354.0</td><td>11050.0</td><td>-31920.0</td><td>-80900.0</td><td>null</td><td>3.081</td><td>2.292</td><td>0.7886</td><td>0.6411</td><td>0.1076</td><td>-0.02193</td><td>0.08572</td><td>0.03752</td><td>0.344</td><td>0.03723</td><td>0.01917</td></tr><tr><td>2005</td><td>10</td><td>2</td><td>5</td><td>56</td><td>16</td><td>2019</td><td>56</td><td>&quot;Wyoming&quot;</td><td>&quot;WY&quot;</td><td>37.72</td><td>94440</td><td>10.4</td><td>164900</td><td>0.158</td><td>0.1172</td><td>0.07825</td><td>0.2365</td><td>0.41</td><td>-0.09288</td><td>-1.298</td><td>-0.1838</td><td>0.09093</td><td>0.2721</td><td>0.237</td><td>0.02348</td><td>0.6894</td><td>-0.5859</td><td>-2073.0</td><td>-10040.0</td><td>-31700.0</td><td>-87660.0</td><td>null</td><td>2.826</td><td>2.142</td><td>0.684</td><td>0.6434</td><td>-0.1393</td><td>-0.2013</td><td>-0.3406</td><td>0.07878</td><td>0.341</td><td>0.03892</td><td>0.01919</td></tr></tbody></table></div>"
      ],
      "text/plain": [
       "shape: (100_980, 44)\n",
       "┌──────────┬────────┬─────┬─────────┬───┬────────────┬─────────────┬──────────┬──────────┐\n",
       "│ baseyear ┆ decile ┆ sex ┆ raceeth ┆ … ┆ pdiffstate ┆ pdiffstateb ┆ pdiffdiv ┆ pdiffmar │\n",
       "│ ---      ┆ ---    ┆ --- ┆ ---     ┆   ┆ ---        ┆ ---         ┆ ---      ┆ ---      │\n",
       "│ i64      ┆ i64    ┆ i64 ┆ i64     ┆   ┆ f64        ┆ f64         ┆ f64      ┆ f64      │\n",
       "╞══════════╪════════╪═════╪═════════╪═══╪════════════╪═════════════╪══════════╪══════════╡\n",
       "│ 2005     ┆ -1     ┆ 1   ┆ 0       ┆ … ┆ null       ┆ null        ┆ null     ┆ null     │\n",
       "│ 2005     ┆ -1     ┆ 1   ┆ 0       ┆ … ┆ 0.1205     ┆ 0.1205      ┆ 0.03722  ┆ 0.04853  │\n",
       "│ 2005     ┆ -1     ┆ 1   ┆ 0       ┆ … ┆ 0.1193     ┆ 0.1907      ┆ 0.03216  ┆ 0.04561  │\n",
       "│ 2005     ┆ -1     ┆ 1   ┆ 0       ┆ … ┆ 0.1064     ┆ 0.2275      ┆ 0.03961  ┆ 0.03818  │\n",
       "│ 2005     ┆ -1     ┆ 1   ┆ 0       ┆ … ┆ 0.1063     ┆ 0.2548      ┆ 0.0361   ┆ 0.03862  │\n",
       "│ …        ┆ …      ┆ …   ┆ …       ┆ … ┆ …          ┆ …           ┆ …        ┆ …        │\n",
       "│ 2005     ┆ 10     ┆ 2   ┆ 5       ┆ … ┆ 0.03785    ┆ 0.3153      ┆ 0.07332  ┆ 0.01922  │\n",
       "│ 2005     ┆ 10     ┆ 2   ┆ 5       ┆ … ┆ 0.03876    ┆ 0.3561      ┆ 0.01872  ┆ 0.03611  │\n",
       "│ 2005     ┆ 10     ┆ 2   ┆ 5       ┆ … ┆ 0.05654    ┆ 0.3603      ┆ 0.05584  ┆ 0.03757  │\n",
       "│ 2005     ┆ 10     ┆ 2   ┆ 5       ┆ … ┆ 0.03752    ┆ 0.344       ┆ 0.03723  ┆ 0.01917  │\n",
       "│ 2005     ┆ 10     ┆ 2   ┆ 5       ┆ … ┆ 0.07878    ┆ 0.341       ┆ 0.03892  ┆ 0.01919  │\n",
       "└──────────┴────────┴─────┴─────────┴───┴────────────┴─────────────┴──────────┴──────────┘"
      ]
     },
     "execution_count": 28,
     "metadata": {},
     "output_type": "execute_result"
    }
   ],
   "source": [
    "df2"
   ]
  },
  {
   "cell_type": "code",
   "execution_count": 29,
   "metadata": {
    "metadata": {}
   },
   "outputs": [
    {
     "ename": "OutOfBoundsError",
     "evalue": "index 2 is bigger than the number of categories 2",
     "output_type": "error",
     "traceback": [
      "\u001b[0;31m---------------------------------------------------------------------------\u001b[0m",
      "\u001b[0;31mOutOfBoundsError\u001b[0m                          Traceback (most recent call last)",
      "Cell \u001b[0;32mIn[29], line 7\u001b[0m\n\u001b[1;32m      1\u001b[0m df2 \u001b[38;5;241m=\u001b[39m df\n\u001b[1;32m      2\u001b[0m df2 \u001b[38;5;241m=\u001b[39m df2\u001b[38;5;241m.\u001b[39mfilter(\n\u001b[1;32m      3\u001b[0m     pl\u001b[38;5;241m.\u001b[39mcol(\u001b[38;5;124m\"\u001b[39m\u001b[38;5;124mstate_name\u001b[39m\u001b[38;5;124m\"\u001b[39m) \u001b[38;5;241m!=\u001b[39m \u001b[38;5;124m\"\u001b[39m\u001b[38;5;124mUnited States\u001b[39m\u001b[38;5;124m\"\u001b[39m,\n\u001b[1;32m      4\u001b[0m     pl\u001b[38;5;241m.\u001b[39mcol(\u001b[38;5;124m\"\u001b[39m\u001b[38;5;124msex\u001b[39m\u001b[38;5;124m\"\u001b[39m) \u001b[38;5;241m>\u001b[39m\u001b[38;5;241m=\u001b[39m \u001b[38;5;241m0\u001b[39m,\n\u001b[1;32m      5\u001b[0m     pl\u001b[38;5;241m.\u001b[39mcol(\u001b[38;5;124m\"\u001b[39m\u001b[38;5;124mraceeth\u001b[39m\u001b[38;5;124m\"\u001b[39m) \u001b[38;5;241m>\u001b[39m\u001b[38;5;241m=\u001b[39m \u001b[38;5;241m0\u001b[39m,\n\u001b[1;32m      6\u001b[0m )\n\u001b[0;32m----> 7\u001b[0m df2 \u001b[38;5;241m=\u001b[39m \u001b[43mdf2\u001b[49m\u001b[38;5;241;43m.\u001b[39;49m\u001b[43mwith_columns\u001b[49m\u001b[43m(\u001b[49m\n\u001b[1;32m      8\u001b[0m \u001b[43m    \u001b[49m\u001b[43mpl\u001b[49m\u001b[38;5;241;43m.\u001b[39;49m\u001b[43mcol\u001b[49m\u001b[43m(\u001b[49m\u001b[38;5;124;43m\"\u001b[39;49m\u001b[38;5;124;43msex\u001b[39;49m\u001b[38;5;124;43m\"\u001b[39;49m\u001b[43m)\u001b[49m\u001b[38;5;241;43m.\u001b[39;49m\u001b[43mcast\u001b[49m\u001b[43m(\u001b[49m\u001b[43mpl\u001b[49m\u001b[38;5;241;43m.\u001b[39;49m\u001b[43mEnum\u001b[49m\u001b[43m(\u001b[49m\u001b[43msex\u001b[49m\u001b[43m)\u001b[49m\u001b[43m)\u001b[49m\u001b[43m,\u001b[49m\n\u001b[1;32m      9\u001b[0m \u001b[43m   \u001b[49m\u001b[38;5;66;43;03m# pl.col(\"raceeth\").cast(pl.Enum(race)),\u001b[39;49;00m\n\u001b[1;32m     10\u001b[0m \u001b[43m    \u001b[49m\u001b[38;5;66;43;03m#pl.col(\"state\").cast(pl.Enum(states)),\u001b[39;49;00m\n\u001b[1;32m     11\u001b[0m \u001b[43m    \u001b[49m\n\u001b[1;32m     12\u001b[0m \u001b[43m)\u001b[49m\n\u001b[1;32m     13\u001b[0m df2\n",
      "File \u001b[0;32m~/miniforge3/envs/testenv/lib/python3.12/site-packages/polars/dataframe/frame.py:8310\u001b[0m, in \u001b[0;36mDataFrame.with_columns\u001b[0;34m(self, *exprs, **named_exprs)\u001b[0m\n\u001b[1;32m   8164\u001b[0m \u001b[38;5;28;01mdef\u001b[39;00m \u001b[38;5;21mwith_columns\u001b[39m(\n\u001b[1;32m   8165\u001b[0m     \u001b[38;5;28mself\u001b[39m,\n\u001b[1;32m   8166\u001b[0m     \u001b[38;5;241m*\u001b[39mexprs: IntoExpr \u001b[38;5;241m|\u001b[39m Iterable[IntoExpr],\n\u001b[1;32m   8167\u001b[0m     \u001b[38;5;241m*\u001b[39m\u001b[38;5;241m*\u001b[39mnamed_exprs: IntoExpr,\n\u001b[1;32m   8168\u001b[0m ) \u001b[38;5;241m-\u001b[39m\u001b[38;5;241m>\u001b[39m DataFrame:\n\u001b[1;32m   8169\u001b[0m \u001b[38;5;250m    \u001b[39m\u001b[38;5;124;03m\"\"\"\u001b[39;00m\n\u001b[1;32m   8170\u001b[0m \u001b[38;5;124;03m    Add columns to this DataFrame.\u001b[39;00m\n\u001b[1;32m   8171\u001b[0m \n\u001b[0;32m   (...)\u001b[0m\n\u001b[1;32m   8308\u001b[0m \u001b[38;5;124;03m    └─────┴──────┴─────────────┘\u001b[39;00m\n\u001b[1;32m   8309\u001b[0m \u001b[38;5;124;03m    \"\"\"\u001b[39;00m\n\u001b[0;32m-> 8310\u001b[0m     \u001b[38;5;28;01mreturn\u001b[39;00m \u001b[38;5;28;43mself\u001b[39;49m\u001b[38;5;241;43m.\u001b[39;49m\u001b[43mlazy\u001b[49m\u001b[43m(\u001b[49m\u001b[43m)\u001b[49m\u001b[38;5;241;43m.\u001b[39;49m\u001b[43mwith_columns\u001b[49m\u001b[43m(\u001b[49m\u001b[38;5;241;43m*\u001b[39;49m\u001b[43mexprs\u001b[49m\u001b[43m,\u001b[49m\u001b[43m \u001b[49m\u001b[38;5;241;43m*\u001b[39;49m\u001b[38;5;241;43m*\u001b[39;49m\u001b[43mnamed_exprs\u001b[49m\u001b[43m)\u001b[49m\u001b[38;5;241;43m.\u001b[39;49m\u001b[43mcollect\u001b[49m\u001b[43m(\u001b[49m\u001b[43m_eager\u001b[49m\u001b[38;5;241;43m=\u001b[39;49m\u001b[38;5;28;43;01mTrue\u001b[39;49;00m\u001b[43m)\u001b[49m\n",
      "File \u001b[0;32m~/miniforge3/envs/testenv/lib/python3.12/site-packages/polars/lazyframe/frame.py:1816\u001b[0m, in \u001b[0;36mLazyFrame.collect\u001b[0;34m(self, type_coercion, predicate_pushdown, projection_pushdown, simplify_expression, slice_pushdown, comm_subplan_elim, comm_subexpr_elim, no_optimization, streaming, background, _eager, **_kwargs)\u001b[0m\n\u001b[1;32m   1813\u001b[0m \u001b[38;5;66;03m# Only for testing purposes atm.\u001b[39;00m\n\u001b[1;32m   1814\u001b[0m callback \u001b[38;5;241m=\u001b[39m _kwargs\u001b[38;5;241m.\u001b[39mget(\u001b[38;5;124m\"\u001b[39m\u001b[38;5;124mpost_opt_callback\u001b[39m\u001b[38;5;124m\"\u001b[39m)\n\u001b[0;32m-> 1816\u001b[0m \u001b[38;5;28;01mreturn\u001b[39;00m wrap_df(\u001b[43mldf\u001b[49m\u001b[38;5;241;43m.\u001b[39;49m\u001b[43mcollect\u001b[49m\u001b[43m(\u001b[49m\u001b[43mcallback\u001b[49m\u001b[43m)\u001b[49m)\n",
      "\u001b[0;31mOutOfBoundsError\u001b[0m: index 2 is bigger than the number of categories 2"
     ]
    }
   ],
   "source": [
    "df2 = df\n",
    "df2 = df2.filter(\n",
    "    pl.col(\"state_name\") != \"United States\",\n",
    "    pl.col(\"sex\") >= 0,\n",
    "    pl.col(\"raceeth\") >= 0,\n",
    ")\n",
    "df2 = df2.with_columns(\n",
    "    pl.col(\"sex\").cast(pl.Enum(sex)),\n",
    "   # pl.col(\"raceeth\").cast(pl.Enum(race)),\n",
    "    #pl.col(\"state\").cast(pl.Enum(states)),\n",
    "    \n",
    ")\n",
    "df2"
   ]
  }
 ],
 "metadata": {
  "kernelspec": {
   "display_name": "mov",
   "language": "python",
   "name": "python3"
  },
  "language_info": {
   "codemirror_mode": {
    "name": "ipython",
    "version": 3
   },
   "file_extension": ".py",
   "mimetype": "text/x-python",
   "name": "python",
   "nbconvert_exporter": "python",
   "pygments_lexer": "ipython3",
   "version": "3.12.3"
  }
 },
 "nbformat": 4,
 "nbformat_minor": 2
}
