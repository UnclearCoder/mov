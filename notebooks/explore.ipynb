{
 "cells": [
  {
   "cell_type": "code",
   "execution_count": 2,
   "metadata": {
    "metadata": {}
   },
   "outputs": [],
   "source": [
    "import polars as pl\n",
    "import pandas as pd\n",
    "import numpy as np\n",
    "import os \n",
    "import json\n",
    "os.chdir(\"..\")"
   ]
  },
  {
   "cell_type": "code",
   "execution_count": 3,
   "metadata": {
    "metadata": {}
   },
   "outputs": [
    {
     "data": {
      "text/plain": [
       "['aggr', 'male', 'female']"
      ]
     },
     "execution_count": 3,
     "metadata": {},
     "output_type": "execute_result"
    }
   ],
   "source": [
    "sex = pl.read_json(\"data/external/sex.json\").transpose(include_header=True).select(pl.col(\"column\")).to_series().to_list()\n",
    "sex"
   ]
  },
  {
   "cell_type": "code",
   "execution_count": 4,
   "metadata": {
    "metadata": {}
   },
   "outputs": [
    {
     "data": {
      "text/html": [
       "<div><style>\n",
       ".dataframe > thead > tr,\n",
       ".dataframe > tbody > tr {\n",
       "  text-align: right;\n",
       "  white-space: pre-wrap;\n",
       "}\n",
       "</style>\n",
       "<small>shape: (180_180, 44)</small><table border=\"1\" class=\"dataframe\"><thead><tr><th>baseyear</th><th>decile</th><th>sex</th><th>raceeth</th><th>state</th><th>agglevel</th><th>year</th><th>fips</th><th>state_name</th><th>state_abbr</th><th>mageb</th><th>meqinc</th><th>mleqinc</th><th>muneqinc</th><th>pqn1</th><th>pqn2</th><th>pqn3</th><th>pqn4</th><th>pqn5</th><th>mdiffleqinc</th><th>mdiffleqincb</th><th>mdiffluneqinc</th><th>mdiffleqscale</th><th>pdiffinc_gt25</th><th>pdiffinc_lt25</th><th>marcpdiffeqinc</th><th>varcpdiffeqinc</th><th>marcpdiffeqincb</th><th>mdiffeqinc</th><th>mdiffuneqinc</th><th>mdiffeqincb</th><th>mdiffuneqincb</th><th>count</th><th>mfn</th><th>mad</th><th>mkids</th><th>pmar</th><th>mdiffkids</th><th>mdiffad</th><th>mdifffn</th><th>pdiffstate</th><th>pdiffstateb</th><th>pdiffdiv</th><th>pdiffmar</th></tr><tr><td>i64</td><td>i64</td><td>i64</td><td>i64</td><td>i64</td><td>i64</td><td>i64</td><td>i64</td><td>str</td><td>str</td><td>f64</td><td>i64</td><td>f64</td><td>i64</td><td>f64</td><td>f64</td><td>f64</td><td>f64</td><td>f64</td><td>f64</td><td>f64</td><td>f64</td><td>f64</td><td>f64</td><td>f64</td><td>f64</td><td>f64</td><td>f64</td><td>f64</td><td>f64</td><td>f64</td><td>f64</td><td>i64</td><td>f64</td><td>f64</td><td>f64</td><td>f64</td><td>f64</td><td>f64</td><td>f64</td><td>f64</td><td>f64</td><td>f64</td><td>f64</td></tr></thead><tbody><tr><td>2005</td><td>-1</td><td>-1</td><td>-1</td><td>-1</td><td>1</td><td>2005</td><td>-1</td><td>&quot;United States&quot;</td><td>&quot;US&quot;</td><td>38.03</td><td>42120</td><td>10.26</td><td>77460</td><td>null</td><td>null</td><td>null</td><td>null</td><td>null</td><td>null</td><td>null</td><td>null</td><td>null</td><td>null</td><td>null</td><td>null</td><td>null</td><td>null</td><td>null</td><td>null</td><td>null</td><td>null</td><td>98460000</td><td>3.659</td><td>2.254</td><td>1.406</td><td>0.5716</td><td>null</td><td>null</td><td>null</td><td>null</td><td>null</td><td>null</td><td>null</td></tr><tr><td>2005</td><td>-1</td><td>-1</td><td>-1</td><td>-1</td><td>1</td><td>2006</td><td>-1</td><td>&quot;United States&quot;</td><td>&quot;US&quot;</td><td>38.03</td><td>43150</td><td>10.14</td><td>79150</td><td>0.2</td><td>0.2</td><td>0.2</td><td>0.2</td><td>0.2</td><td>-0.1198</td><td>-0.1198</td><td>-0.1297</td><td>0.007705</td><td>0.2252</td><td>0.1714</td><td>-0.007561</td><td>0.359</td><td>-0.007561</td><td>1037.0</td><td>1690.0</td><td>1037.0</td><td>1690.0</td><td>99580000</td><td>3.617</td><td>2.234</td><td>1.383</td><td>0.5698</td><td>-0.02202</td><td>-0.02409</td><td>-0.04611</td><td>0.04058</td><td>0.04058</td><td>0.03008</td><td>0.03309</td></tr><tr><td>2005</td><td>-1</td><td>-1</td><td>-1</td><td>-1</td><td>1</td><td>2007</td><td>-1</td><td>&quot;United States&quot;</td><td>&quot;US&quot;</td><td>38.03</td><td>44920</td><td>10.16</td><td>82450</td><td>0.2</td><td>0.2</td><td>0.2</td><td>0.2</td><td>0.2</td><td>0.0102</td><td>-0.1076</td><td>0.009011</td><td>0.001795</td><td>0.239</td><td>0.1603</td><td>0.02723</td><td>0.3638</td><td>0.02263</td><td>1745.0</td><td>3188.0</td><td>2794.0</td><td>4955.0</td><td>99600000</td><td>3.611</td><td>2.229</td><td>1.382</td><td>0.581</td><td>-0.005</td><td>-0.006964</td><td>-0.01196</td><td>0.04064</td><td>0.06926</td><td>0.02448</td><td>0.03618</td></tr><tr><td>2005</td><td>-1</td><td>-1</td><td>-1</td><td>-1</td><td>1</td><td>2008</td><td>-1</td><td>&quot;United States&quot;</td><td>&quot;US&quot;</td><td>38.03</td><td>43640</td><td>10.04</td><td>79960</td><td>0.2</td><td>0.2</td><td>0.2</td><td>0.2</td><td>0.2</td><td>-0.1211</td><td>-0.2237</td><td>-0.1277</td><td>0.005339</td><td>0.183</td><td>0.1927</td><td>-0.04614</td><td>0.3635</td><td>-0.02041</td><td>-1342.0</td><td>-2739.0</td><td>1488.0</td><td>2382.0</td><td>99260000</td><td>3.593</td><td>2.231</td><td>1.362</td><td>0.578</td><td>-0.02735</td><td>-0.004451</td><td>-0.0318</td><td>0.0378</td><td>0.08833</td><td>0.03081</td><td>0.02763</td></tr><tr><td>2005</td><td>-1</td><td>-1</td><td>-1</td><td>-1</td><td>1</td><td>2009</td><td>-1</td><td>&quot;United States&quot;</td><td>&quot;US&quot;</td><td>38.03</td><td>42460</td><td>9.943</td><td>77810</td><td>0.2</td><td>0.2</td><td>0.2</td><td>0.2</td><td>0.2</td><td>-0.1052</td><td>-0.3225</td><td>-0.1102</td><td>0.004277</td><td>0.1759</td><td>0.1903</td><td>-0.04334</td><td>0.3662</td><td>-0.05754</td><td>-1229.0</td><td>-2368.0</td><td>296.7</td><td>187.1</td><td>99280000</td><td>3.585</td><td>2.23</td><td>1.355</td><td>0.5766</td><td>-0.01599</td><td>-0.008972</td><td>-0.02497</td><td>0.03604</td><td>0.1026</td><td>0.02897</td><td>0.02739</td></tr><tr><td>&hellip;</td><td>&hellip;</td><td>&hellip;</td><td>&hellip;</td><td>&hellip;</td><td>&hellip;</td><td>&hellip;</td><td>&hellip;</td><td>&hellip;</td><td>&hellip;</td><td>&hellip;</td><td>&hellip;</td><td>&hellip;</td><td>&hellip;</td><td>&hellip;</td><td>&hellip;</td><td>&hellip;</td><td>&hellip;</td><td>&hellip;</td><td>&hellip;</td><td>&hellip;</td><td>&hellip;</td><td>&hellip;</td><td>&hellip;</td><td>&hellip;</td><td>&hellip;</td><td>&hellip;</td><td>&hellip;</td><td>&hellip;</td><td>&hellip;</td><td>&hellip;</td><td>&hellip;</td><td>&hellip;</td><td>&hellip;</td><td>&hellip;</td><td>&hellip;</td><td>&hellip;</td><td>&hellip;</td><td>&hellip;</td><td>&hellip;</td><td>&hellip;</td><td>&hellip;</td><td>&hellip;</td><td>&hellip;</td></tr><tr><td>2005</td><td>10</td><td>2</td><td>5</td><td>56</td><td>16</td><td>2015</td><td>56</td><td>&quot;Wyoming&quot;</td><td>&quot;WY&quot;</td><td>37.72</td><td>109300</td><td>10.33</td><td>198100</td><td>0.1527</td><td>0.05472</td><td>0.03615</td><td>0.1363</td><td>0.6201</td><td>-0.1986</td><td>-1.362</td><td>-0.1898</td><td>-0.008806</td><td>0.279</td><td>0.1498</td><td>0.04903</td><td>0.5124</td><td>-0.3791</td><td>4696.0</td><td>15670.0</td><td>-15450.0</td><td>-50600.0</td><td>null</td><td>3.096</td><td>2.336</td><td>0.7607</td><td>0.6601</td><td>-0.1093</td><td>0.2329</td><td>0.1236</td><td>0.03785</td><td>0.3153</td><td>0.07332</td><td>0.01922</td></tr><tr><td>2005</td><td>10</td><td>2</td><td>5</td><td>56</td><td>16</td><td>2016</td><td>56</td><td>&quot;Wyoming&quot;</td><td>&quot;WY&quot;</td><td>37.72</td><td>91540</td><td>10.21</td><td>152900</td><td>0.1691</td><td>0.05584</td><td>0.05786</td><td>0.1706</td><td>0.5466</td><td>-0.1153</td><td>-1.477</td><td>-0.1468</td><td>0.03149</td><td>0.1508</td><td>0.263</td><td>-0.1089</td><td>0.4542</td><td>-0.5153</td><td>-17720.0</td><td>-45180.0</td><td>-33310.0</td><td>-96370.0</td><td>null</td><td>2.964</td><td>2.299</td><td>0.665</td><td>0.6759</td><td>-0.1</td><td>-0.04198</td><td>-0.142</td><td>0.03876</td><td>0.3561</td><td>0.01872</td><td>0.03611</td></tr><tr><td>2005</td><td>10</td><td>2</td><td>5</td><td>56</td><td>16</td><td>2017</td><td>56</td><td>&quot;Wyoming&quot;</td><td>&quot;WY&quot;</td><td>37.72</td><td>91790</td><td>10.56</td><td>157300</td><td>0.1882</td><td>0.07496</td><td>0.05671</td><td>0.1719</td><td>0.5082</td><td>0.3487</td><td>-1.129</td><td>0.3806</td><td>-0.03197</td><td>0.2456</td><td>0.2636</td><td>0.01705</td><td>0.6236</td><td>-0.5616</td><td>492.3</td><td>4585.0</td><td>-33280.0</td><td>-92370.0</td><td>null</td><td>2.983</td><td>2.309</td><td>0.6745</td><td>0.6568</td><td>-0.00106</td><td>-0.002752</td><td>-0.003813</td><td>0.05654</td><td>0.3603</td><td>0.05584</td><td>0.03757</td></tr><tr><td>2005</td><td>10</td><td>2</td><td>5</td><td>56</td><td>16</td><td>2018</td><td>56</td><td>&quot;Wyoming&quot;</td><td>&quot;WY&quot;</td><td>37.72</td><td>93080</td><td>10.1</td><td>168600</td><td>0.1686</td><td>0.09329</td><td>0.05706</td><td>0.1713</td><td>0.5098</td><td>-0.4649</td><td>-1.59</td><td>-0.4572</td><td>-0.007748</td><td>0.2644</td><td>0.2244</td><td>-0.08957</td><td>0.7631</td><td>-0.5601</td><td>1354.0</td><td>11050.0</td><td>-31920.0</td><td>-80900.0</td><td>null</td><td>3.081</td><td>2.292</td><td>0.7886</td><td>0.6411</td><td>0.1076</td><td>-0.02193</td><td>0.08572</td><td>0.03752</td><td>0.344</td><td>0.03723</td><td>0.01917</td></tr><tr><td>2005</td><td>10</td><td>2</td><td>5</td><td>56</td><td>16</td><td>2019</td><td>56</td><td>&quot;Wyoming&quot;</td><td>&quot;WY&quot;</td><td>37.72</td><td>94440</td><td>10.4</td><td>164900</td><td>0.158</td><td>0.1172</td><td>0.07825</td><td>0.2365</td><td>0.41</td><td>-0.09288</td><td>-1.298</td><td>-0.1838</td><td>0.09093</td><td>0.2721</td><td>0.237</td><td>0.02348</td><td>0.6894</td><td>-0.5859</td><td>-2073.0</td><td>-10040.0</td><td>-31700.0</td><td>-87660.0</td><td>null</td><td>2.826</td><td>2.142</td><td>0.684</td><td>0.6434</td><td>-0.1393</td><td>-0.2013</td><td>-0.3406</td><td>0.07878</td><td>0.341</td><td>0.03892</td><td>0.01919</td></tr></tbody></table></div>"
      ],
      "text/plain": [
       "shape: (180_180, 44)\n",
       "┌──────────┬────────┬─────┬─────────┬───┬────────────┬─────────────┬──────────┬──────────┐\n",
       "│ baseyear ┆ decile ┆ sex ┆ raceeth ┆ … ┆ pdiffstate ┆ pdiffstateb ┆ pdiffdiv ┆ pdiffmar │\n",
       "│ ---      ┆ ---    ┆ --- ┆ ---     ┆   ┆ ---        ┆ ---         ┆ ---      ┆ ---      │\n",
       "│ i64      ┆ i64    ┆ i64 ┆ i64     ┆   ┆ f64        ┆ f64         ┆ f64      ┆ f64      │\n",
       "╞══════════╪════════╪═════╪═════════╪═══╪════════════╪═════════════╪══════════╪══════════╡\n",
       "│ 2005     ┆ -1     ┆ -1  ┆ -1      ┆ … ┆ null       ┆ null        ┆ null     ┆ null     │\n",
       "│ 2005     ┆ -1     ┆ -1  ┆ -1      ┆ … ┆ 0.04058    ┆ 0.04058     ┆ 0.03008  ┆ 0.03309  │\n",
       "│ 2005     ┆ -1     ┆ -1  ┆ -1      ┆ … ┆ 0.04064    ┆ 0.06926     ┆ 0.02448  ┆ 0.03618  │\n",
       "│ 2005     ┆ -1     ┆ -1  ┆ -1      ┆ … ┆ 0.0378     ┆ 0.08833     ┆ 0.03081  ┆ 0.02763  │\n",
       "│ 2005     ┆ -1     ┆ -1  ┆ -1      ┆ … ┆ 0.03604    ┆ 0.1026      ┆ 0.02897  ┆ 0.02739  │\n",
       "│ …        ┆ …      ┆ …   ┆ …       ┆ … ┆ …          ┆ …           ┆ …        ┆ …        │\n",
       "│ 2005     ┆ 10     ┆ 2   ┆ 5       ┆ … ┆ 0.03785    ┆ 0.3153      ┆ 0.07332  ┆ 0.01922  │\n",
       "│ 2005     ┆ 10     ┆ 2   ┆ 5       ┆ … ┆ 0.03876    ┆ 0.3561      ┆ 0.01872  ┆ 0.03611  │\n",
       "│ 2005     ┆ 10     ┆ 2   ┆ 5       ┆ … ┆ 0.05654    ┆ 0.3603      ┆ 0.05584  ┆ 0.03757  │\n",
       "│ 2005     ┆ 10     ┆ 2   ┆ 5       ┆ … ┆ 0.03752    ┆ 0.344       ┆ 0.03723  ┆ 0.01917  │\n",
       "│ 2005     ┆ 10     ┆ 2   ┆ 5       ┆ … ┆ 0.07878    ┆ 0.341       ┆ 0.03892  ┆ 0.01919  │\n",
       "└──────────┴────────┴─────┴─────────┴───┴────────────┴─────────────┴──────────┴──────────┘"
      ]
     },
     "execution_count": 4,
     "metadata": {},
     "output_type": "execute_result"
    }
   ],
   "source": [
    "df = pl.read_csv(\"data/raw/movs_st_main2005.csv\", ignore_errors=True)\n",
    "df "
   ]
  },
  {
   "cell_type": "code",
   "execution_count": 5,
   "metadata": {
    "metadata": {}
   },
   "outputs": [
    {
     "data": {
      "text/html": [
       "<div><style>\n",
       ".dataframe > thead > tr,\n",
       ".dataframe > tbody > tr {\n",
       "  text-align: right;\n",
       "  white-space: pre-wrap;\n",
       "}\n",
       "</style>\n",
       "<small>shape: (180_180, 44)</small><table border=\"1\" class=\"dataframe\"><thead><tr><th>baseyear</th><th>decile</th><th>sex</th><th>raceeth</th><th>state</th><th>agglevel</th><th>year</th><th>fips</th><th>state_name</th><th>state_abbr</th><th>mageb</th><th>meqinc</th><th>mleqinc</th><th>muneqinc</th><th>pqn1</th><th>pqn2</th><th>pqn3</th><th>pqn4</th><th>pqn5</th><th>mdiffleqinc</th><th>mdiffleqincb</th><th>mdiffluneqinc</th><th>mdiffleqscale</th><th>pdiffinc_gt25</th><th>pdiffinc_lt25</th><th>marcpdiffeqinc</th><th>varcpdiffeqinc</th><th>marcpdiffeqincb</th><th>mdiffeqinc</th><th>mdiffuneqinc</th><th>mdiffeqincb</th><th>mdiffuneqincb</th><th>count</th><th>mfn</th><th>mad</th><th>mkids</th><th>pmar</th><th>mdiffkids</th><th>mdiffad</th><th>mdifffn</th><th>pdiffstate</th><th>pdiffstateb</th><th>pdiffdiv</th><th>pdiffmar</th></tr><tr><td>i64</td><td>i64</td><td>enum</td><td>i64</td><td>i64</td><td>i64</td><td>i64</td><td>i64</td><td>str</td><td>str</td><td>f64</td><td>i64</td><td>f64</td><td>i64</td><td>f64</td><td>f64</td><td>f64</td><td>f64</td><td>f64</td><td>f64</td><td>f64</td><td>f64</td><td>f64</td><td>f64</td><td>f64</td><td>f64</td><td>f64</td><td>f64</td><td>f64</td><td>f64</td><td>f64</td><td>f64</td><td>i64</td><td>f64</td><td>f64</td><td>f64</td><td>f64</td><td>f64</td><td>f64</td><td>f64</td><td>f64</td><td>f64</td><td>f64</td><td>f64</td></tr></thead><tbody><tr><td>2005</td><td>-1</td><td>&quot;aggr&quot;</td><td>-1</td><td>-1</td><td>1</td><td>2005</td><td>-1</td><td>&quot;United States&quot;</td><td>&quot;US&quot;</td><td>38.03</td><td>42120</td><td>10.26</td><td>77460</td><td>null</td><td>null</td><td>null</td><td>null</td><td>null</td><td>null</td><td>null</td><td>null</td><td>null</td><td>null</td><td>null</td><td>null</td><td>null</td><td>null</td><td>null</td><td>null</td><td>null</td><td>null</td><td>98460000</td><td>3.659</td><td>2.254</td><td>1.406</td><td>0.5716</td><td>null</td><td>null</td><td>null</td><td>null</td><td>null</td><td>null</td><td>null</td></tr><tr><td>2005</td><td>-1</td><td>&quot;aggr&quot;</td><td>-1</td><td>-1</td><td>1</td><td>2006</td><td>-1</td><td>&quot;United States&quot;</td><td>&quot;US&quot;</td><td>38.03</td><td>43150</td><td>10.14</td><td>79150</td><td>0.2</td><td>0.2</td><td>0.2</td><td>0.2</td><td>0.2</td><td>-0.1198</td><td>-0.1198</td><td>-0.1297</td><td>0.007705</td><td>0.2252</td><td>0.1714</td><td>-0.007561</td><td>0.359</td><td>-0.007561</td><td>1037.0</td><td>1690.0</td><td>1037.0</td><td>1690.0</td><td>99580000</td><td>3.617</td><td>2.234</td><td>1.383</td><td>0.5698</td><td>-0.02202</td><td>-0.02409</td><td>-0.04611</td><td>0.04058</td><td>0.04058</td><td>0.03008</td><td>0.03309</td></tr><tr><td>2005</td><td>-1</td><td>&quot;aggr&quot;</td><td>-1</td><td>-1</td><td>1</td><td>2007</td><td>-1</td><td>&quot;United States&quot;</td><td>&quot;US&quot;</td><td>38.03</td><td>44920</td><td>10.16</td><td>82450</td><td>0.2</td><td>0.2</td><td>0.2</td><td>0.2</td><td>0.2</td><td>0.0102</td><td>-0.1076</td><td>0.009011</td><td>0.001795</td><td>0.239</td><td>0.1603</td><td>0.02723</td><td>0.3638</td><td>0.02263</td><td>1745.0</td><td>3188.0</td><td>2794.0</td><td>4955.0</td><td>99600000</td><td>3.611</td><td>2.229</td><td>1.382</td><td>0.581</td><td>-0.005</td><td>-0.006964</td><td>-0.01196</td><td>0.04064</td><td>0.06926</td><td>0.02448</td><td>0.03618</td></tr><tr><td>2005</td><td>-1</td><td>&quot;aggr&quot;</td><td>-1</td><td>-1</td><td>1</td><td>2008</td><td>-1</td><td>&quot;United States&quot;</td><td>&quot;US&quot;</td><td>38.03</td><td>43640</td><td>10.04</td><td>79960</td><td>0.2</td><td>0.2</td><td>0.2</td><td>0.2</td><td>0.2</td><td>-0.1211</td><td>-0.2237</td><td>-0.1277</td><td>0.005339</td><td>0.183</td><td>0.1927</td><td>-0.04614</td><td>0.3635</td><td>-0.02041</td><td>-1342.0</td><td>-2739.0</td><td>1488.0</td><td>2382.0</td><td>99260000</td><td>3.593</td><td>2.231</td><td>1.362</td><td>0.578</td><td>-0.02735</td><td>-0.004451</td><td>-0.0318</td><td>0.0378</td><td>0.08833</td><td>0.03081</td><td>0.02763</td></tr><tr><td>2005</td><td>-1</td><td>&quot;aggr&quot;</td><td>-1</td><td>-1</td><td>1</td><td>2009</td><td>-1</td><td>&quot;United States&quot;</td><td>&quot;US&quot;</td><td>38.03</td><td>42460</td><td>9.943</td><td>77810</td><td>0.2</td><td>0.2</td><td>0.2</td><td>0.2</td><td>0.2</td><td>-0.1052</td><td>-0.3225</td><td>-0.1102</td><td>0.004277</td><td>0.1759</td><td>0.1903</td><td>-0.04334</td><td>0.3662</td><td>-0.05754</td><td>-1229.0</td><td>-2368.0</td><td>296.7</td><td>187.1</td><td>99280000</td><td>3.585</td><td>2.23</td><td>1.355</td><td>0.5766</td><td>-0.01599</td><td>-0.008972</td><td>-0.02497</td><td>0.03604</td><td>0.1026</td><td>0.02897</td><td>0.02739</td></tr><tr><td>&hellip;</td><td>&hellip;</td><td>&hellip;</td><td>&hellip;</td><td>&hellip;</td><td>&hellip;</td><td>&hellip;</td><td>&hellip;</td><td>&hellip;</td><td>&hellip;</td><td>&hellip;</td><td>&hellip;</td><td>&hellip;</td><td>&hellip;</td><td>&hellip;</td><td>&hellip;</td><td>&hellip;</td><td>&hellip;</td><td>&hellip;</td><td>&hellip;</td><td>&hellip;</td><td>&hellip;</td><td>&hellip;</td><td>&hellip;</td><td>&hellip;</td><td>&hellip;</td><td>&hellip;</td><td>&hellip;</td><td>&hellip;</td><td>&hellip;</td><td>&hellip;</td><td>&hellip;</td><td>&hellip;</td><td>&hellip;</td><td>&hellip;</td><td>&hellip;</td><td>&hellip;</td><td>&hellip;</td><td>&hellip;</td><td>&hellip;</td><td>&hellip;</td><td>&hellip;</td><td>&hellip;</td><td>&hellip;</td></tr><tr><td>2005</td><td>10</td><td>&quot;female&quot;</td><td>5</td><td>56</td><td>16</td><td>2015</td><td>56</td><td>&quot;Wyoming&quot;</td><td>&quot;WY&quot;</td><td>37.72</td><td>109300</td><td>10.33</td><td>198100</td><td>0.1527</td><td>0.05472</td><td>0.03615</td><td>0.1363</td><td>0.6201</td><td>-0.1986</td><td>-1.362</td><td>-0.1898</td><td>-0.008806</td><td>0.279</td><td>0.1498</td><td>0.04903</td><td>0.5124</td><td>-0.3791</td><td>4696.0</td><td>15670.0</td><td>-15450.0</td><td>-50600.0</td><td>null</td><td>3.096</td><td>2.336</td><td>0.7607</td><td>0.6601</td><td>-0.1093</td><td>0.2329</td><td>0.1236</td><td>0.03785</td><td>0.3153</td><td>0.07332</td><td>0.01922</td></tr><tr><td>2005</td><td>10</td><td>&quot;female&quot;</td><td>5</td><td>56</td><td>16</td><td>2016</td><td>56</td><td>&quot;Wyoming&quot;</td><td>&quot;WY&quot;</td><td>37.72</td><td>91540</td><td>10.21</td><td>152900</td><td>0.1691</td><td>0.05584</td><td>0.05786</td><td>0.1706</td><td>0.5466</td><td>-0.1153</td><td>-1.477</td><td>-0.1468</td><td>0.03149</td><td>0.1508</td><td>0.263</td><td>-0.1089</td><td>0.4542</td><td>-0.5153</td><td>-17720.0</td><td>-45180.0</td><td>-33310.0</td><td>-96370.0</td><td>null</td><td>2.964</td><td>2.299</td><td>0.665</td><td>0.6759</td><td>-0.1</td><td>-0.04198</td><td>-0.142</td><td>0.03876</td><td>0.3561</td><td>0.01872</td><td>0.03611</td></tr><tr><td>2005</td><td>10</td><td>&quot;female&quot;</td><td>5</td><td>56</td><td>16</td><td>2017</td><td>56</td><td>&quot;Wyoming&quot;</td><td>&quot;WY&quot;</td><td>37.72</td><td>91790</td><td>10.56</td><td>157300</td><td>0.1882</td><td>0.07496</td><td>0.05671</td><td>0.1719</td><td>0.5082</td><td>0.3487</td><td>-1.129</td><td>0.3806</td><td>-0.03197</td><td>0.2456</td><td>0.2636</td><td>0.01705</td><td>0.6236</td><td>-0.5616</td><td>492.3</td><td>4585.0</td><td>-33280.0</td><td>-92370.0</td><td>null</td><td>2.983</td><td>2.309</td><td>0.6745</td><td>0.6568</td><td>-0.00106</td><td>-0.002752</td><td>-0.003813</td><td>0.05654</td><td>0.3603</td><td>0.05584</td><td>0.03757</td></tr><tr><td>2005</td><td>10</td><td>&quot;female&quot;</td><td>5</td><td>56</td><td>16</td><td>2018</td><td>56</td><td>&quot;Wyoming&quot;</td><td>&quot;WY&quot;</td><td>37.72</td><td>93080</td><td>10.1</td><td>168600</td><td>0.1686</td><td>0.09329</td><td>0.05706</td><td>0.1713</td><td>0.5098</td><td>-0.4649</td><td>-1.59</td><td>-0.4572</td><td>-0.007748</td><td>0.2644</td><td>0.2244</td><td>-0.08957</td><td>0.7631</td><td>-0.5601</td><td>1354.0</td><td>11050.0</td><td>-31920.0</td><td>-80900.0</td><td>null</td><td>3.081</td><td>2.292</td><td>0.7886</td><td>0.6411</td><td>0.1076</td><td>-0.02193</td><td>0.08572</td><td>0.03752</td><td>0.344</td><td>0.03723</td><td>0.01917</td></tr><tr><td>2005</td><td>10</td><td>&quot;female&quot;</td><td>5</td><td>56</td><td>16</td><td>2019</td><td>56</td><td>&quot;Wyoming&quot;</td><td>&quot;WY&quot;</td><td>37.72</td><td>94440</td><td>10.4</td><td>164900</td><td>0.158</td><td>0.1172</td><td>0.07825</td><td>0.2365</td><td>0.41</td><td>-0.09288</td><td>-1.298</td><td>-0.1838</td><td>0.09093</td><td>0.2721</td><td>0.237</td><td>0.02348</td><td>0.6894</td><td>-0.5859</td><td>-2073.0</td><td>-10040.0</td><td>-31700.0</td><td>-87660.0</td><td>null</td><td>2.826</td><td>2.142</td><td>0.684</td><td>0.6434</td><td>-0.1393</td><td>-0.2013</td><td>-0.3406</td><td>0.07878</td><td>0.341</td><td>0.03892</td><td>0.01919</td></tr></tbody></table></div>"
      ],
      "text/plain": [
       "shape: (180_180, 44)\n",
       "┌──────────┬────────┬────────┬─────────┬───┬────────────┬─────────────┬──────────┬──────────┐\n",
       "│ baseyear ┆ decile ┆ sex    ┆ raceeth ┆ … ┆ pdiffstate ┆ pdiffstateb ┆ pdiffdiv ┆ pdiffmar │\n",
       "│ ---      ┆ ---    ┆ ---    ┆ ---     ┆   ┆ ---        ┆ ---         ┆ ---      ┆ ---      │\n",
       "│ i64      ┆ i64    ┆ enum   ┆ i64     ┆   ┆ f64        ┆ f64         ┆ f64      ┆ f64      │\n",
       "╞══════════╪════════╪════════╪═════════╪═══╪════════════╪═════════════╪══════════╪══════════╡\n",
       "│ 2005     ┆ -1     ┆ aggr   ┆ -1      ┆ … ┆ null       ┆ null        ┆ null     ┆ null     │\n",
       "│ 2005     ┆ -1     ┆ aggr   ┆ -1      ┆ … ┆ 0.04058    ┆ 0.04058     ┆ 0.03008  ┆ 0.03309  │\n",
       "│ 2005     ┆ -1     ┆ aggr   ┆ -1      ┆ … ┆ 0.04064    ┆ 0.06926     ┆ 0.02448  ┆ 0.03618  │\n",
       "│ 2005     ┆ -1     ┆ aggr   ┆ -1      ┆ … ┆ 0.0378     ┆ 0.08833     ┆ 0.03081  ┆ 0.02763  │\n",
       "│ 2005     ┆ -1     ┆ aggr   ┆ -1      ┆ … ┆ 0.03604    ┆ 0.1026      ┆ 0.02897  ┆ 0.02739  │\n",
       "│ …        ┆ …      ┆ …      ┆ …       ┆ … ┆ …          ┆ …           ┆ …        ┆ …        │\n",
       "│ 2005     ┆ 10     ┆ female ┆ 5       ┆ … ┆ 0.03785    ┆ 0.3153      ┆ 0.07332  ┆ 0.01922  │\n",
       "│ 2005     ┆ 10     ┆ female ┆ 5       ┆ … ┆ 0.03876    ┆ 0.3561      ┆ 0.01872  ┆ 0.03611  │\n",
       "│ 2005     ┆ 10     ┆ female ┆ 5       ┆ … ┆ 0.05654    ┆ 0.3603      ┆ 0.05584  ┆ 0.03757  │\n",
       "│ 2005     ┆ 10     ┆ female ┆ 5       ┆ … ┆ 0.03752    ┆ 0.344       ┆ 0.03723  ┆ 0.01917  │\n",
       "│ 2005     ┆ 10     ┆ female ┆ 5       ┆ … ┆ 0.07878    ┆ 0.341       ┆ 0.03892  ┆ 0.01919  │\n",
       "└──────────┴────────┴────────┴─────────┴───┴────────────┴─────────────┴──────────┴──────────┘"
      ]
     },
     "execution_count": 5,
     "metadata": {},
     "output_type": "execute_result"
    }
   ],
   "source": [
    "df2 = df\n",
    "df2 = df2.with_columns(\n",
    "    pl.when(pl.col(\"sex\") == -1).then(0).otherwise(pl.col(\"sex\")).alias(\"sex\"))\n",
    "df2 = df2.with_columns(\n",
    "    pl.col(\"sex\").cast(pl.Enum(sex))\n",
    ")\n",
    "df2"
   ]
  }
 ],
 "metadata": {
  "kernelspec": {
   "display_name": "mov",
   "language": "python",
   "name": "python3"
  },
  "language_info": {
   "codemirror_mode": {
    "name": "ipython",
    "version": 3
   },
   "file_extension": ".py",
   "mimetype": "text/x-python",
   "name": "python",
   "nbconvert_exporter": "python",
   "pygments_lexer": "ipython3",
   "version": "3.12.3"
  }
 },
 "nbformat": 4,
 "nbformat_minor": 2
}
